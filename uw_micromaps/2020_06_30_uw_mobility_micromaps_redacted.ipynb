{
 "cells": [
  {
   "cell_type": "code",
   "execution_count": 1,
   "metadata": {},
   "outputs": [
    {
     "name": "stdout",
     "output_type": "stream",
     "text": [
      "Tue Jun 30 10:05:48 PDT 2020\r\n"
     ]
    }
   ],
   "source": [
    "import numpy as np\n",
    "import pandas as pd\n",
    "\n",
    "import matplotlib.pyplot as plt\n",
    "import matplotlib.dates as date\n",
    "from matplotlib.ticker import FixedLocator, FixedFormatter\n",
    "from matplotlib.backends.backend_pdf import PdfPages\n",
    "import seaborn as sns\n",
    "\n",
    "import shapefile as shp\n",
    "\n",
    "import os\n",
    "pd.set_option('display.max_rows', 20)\n",
    "!date\n",
    "\n",
    "%load_ext autoreload\n",
    "%autoreload 2"
   ]
  },
  {
   "cell_type": "code",
   "execution_count": 4,
   "metadata": {},
   "outputs": [],
   "source": [
    "from viz_mobility import *"
   ]
  },
  {
   "cell_type": "markdown",
   "metadata": {},
   "source": [
    "# UW mobility micromaps"
   ]
  },
  {
   "cell_type": "markdown",
   "metadata": {},
   "source": [
    "## pull all dates from feb 1st onwards"
   ]
  },
  {
   "cell_type": "code",
   "execution_count": 8,
   "metadata": {},
   "outputs": [
    {
     "name": "stdout",
     "output_type": "stream",
     "text": [
      "CPU times: user 13min 2s, sys: 1min 44s, total: 14min 46s\n",
      "Wall time: 15min 13s\n"
     ]
    }
   ],
   "source": [
    "%%time\n",
    "\n",
    "dir_2020 = '/ihme/limited_use/LIMITED_USE/PROJECT_FOLDERS/COVID19/SAFEGRAPH/social_distancing/2020'\n",
    "raw = pd.DataFrame()\n",
    "\n",
    "for month in ['02', '03', '04', '05', '06']:    \n",
    "    days = os.listdir(dir_2020 + '/' + month)\n",
    "    for day in days:\n",
    "        df = compile_data_uw(month, day)\n",
    "        raw = raw.append(df)"
   ]
  },
  {
   "cell_type": "code",
   "execution_count": 249,
   "metadata": {},
   "outputs": [
    {
     "name": "stdout",
     "output_type": "stream",
     "text": [
      "CPU times: user 35.7 s, sys: 3.34 s, total: 39 s\n",
      "Wall time: 39.1 s\n"
     ]
    }
   ],
   "source": [
    "%%time\n",
    "baseline = calc_baseline(month = 2, days = np.arange(8,15))"
   ]
  },
  {
   "cell_type": "code",
   "execution_count": 136,
   "metadata": {},
   "outputs": [],
   "source": [
    "# # add in missing geoid using the surrounding ones\n",
    "# missing_val = baseline[baseline.origin_census_block_group.isin(['530330052001',\n",
    "#                                                                 '530330052004',\n",
    "#                                                                 '530330045001',\n",
    "#                                                                 '530330053012',\n",
    "#                                                                 '530330053013',\n",
    "#                                                                 '530330052002'])].baseline_not_at_home.mean()\n",
    "\n",
    "# baseline.loc[baseline.shape[0]] = ['530330052005',missing_val]"
   ]
  },
  {
   "cell_type": "code",
   "execution_count": 250,
   "metadata": {},
   "outputs": [
    {
     "name": "stdout",
     "output_type": "stream",
     "text": [
      "CPU times: user 187 ms, sys: 11.1 ms, total: 198 ms\n",
      "Wall time: 194 ms\n"
     ]
    },
    {
     "name": "stderr",
     "output_type": "stream",
     "text": [
      "/share/code/beatrixh/miniconda/envs/gis/lib/python3.6/site-packages/ipykernel_launcher.py:14: UserWarning: Warning: baseline missing for the following geoids: ['530330052005']\n",
      "  \n",
      "/share/code/beatrixh/miniconda/envs/gis/lib/python3.6/site-packages/ipykernel_launcher.py:25: UserWarning: Warning: sip_index==nan for the following geoids: ['530330052005']\n"
     ]
    }
   ],
   "source": [
    "%%time\n",
    "data_long = add_sip_index(raw, baseline)"
   ]
  },
  {
   "cell_type": "markdown",
   "metadata": {},
   "source": [
    "## merge on population counts"
   ]
  },
  {
   "cell_type": "code",
   "execution_count": 252,
   "metadata": {},
   "outputs": [],
   "source": [
    "pdensity_path = '/home/j/Project/simulation_science/covid/data/census_data/2020_05_14_king_county_population_distribution_2010.csv'\n",
    "pop_density = pd.read_csv(pdensity_path, usecols = ['total_pop','area','geoid'], dtype='str')\n",
    "\n",
    "pop_density.total_pop = pop_density.total_pop.astype(int)\n",
    "pop_density.area = pop_density.area.astype(float)\n",
    "pop_density['blkgrp_geoid'] = pop_density.geoid.str[:12]\n",
    "\n",
    "pop_density = pop_density.groupby('blkgrp_geoid').sum()\n",
    "pop_density['density'] = pop_density['total_pop'] / pop_density['area']\n",
    "pop_density = pop_density.reset_index()"
   ]
  },
  {
   "cell_type": "code",
   "execution_count": 253,
   "metadata": {},
   "outputs": [],
   "source": [
    "data_long = data_long.merge(pop_density, left_on='origin_census_block_group', right_on = 'blkgrp_geoid', how='left')"
   ]
  },
  {
   "cell_type": "code",
   "execution_count": 254,
   "metadata": {},
   "outputs": [],
   "source": [
    "# find sip timeseries\n",
    "data = data_long.pivot(index='date', columns='origin_census_block_group', values='sg_sip_index')\n",
    "data = add_rolling_avg(data, windows = [7, 14, 21])"
   ]
  },
  {
   "cell_type": "code",
   "execution_count": 255,
   "metadata": {},
   "outputs": [],
   "source": [
    "# find device_count timeseries\n",
    "dcount = data_long.pivot(index='date', columns='origin_census_block_group', values='device_count')\n",
    "dcount = add_rolling_avg(dcount, windows = [7, 14, 21])"
   ]
  },
  {
   "cell_type": "code",
   "execution_count": 1,
   "metadata": {},
   "outputs": [],
   "source": [
    "# ## plot 7 day rolling avg    \n",
    "\n",
    "# plt.figure(figsize=(10,10))\n",
    "\n",
    "# cols = [i for i in data.columns if i.endswith('7day_avg')]\n",
    "\n",
    "# for y in cols:\n",
    "#     plt.plot(data[['num_date']], data[[y]])\n",
    "\n",
    "# plt.hlines(0,data.num_date.min()+7,data.num_date.max()-7)\n",
    "\n",
    "# plt.title('Feb-May: Percent difference in people staying home relative to baseline around UW')\n",
    "# plt.xticks(ticks = np.arange(737476,data.num_date.max()-7,20),\n",
    "#            labels=data[data.num_date.isin(np.arange(737456.0,data.num_date.max()-7,20))].index.tolist())\n",
    "# plt.show()"
   ]
  },
  {
   "cell_type": "markdown",
   "metadata": {},
   "source": [
    "# plot micromaps"
   ]
  },
  {
   "cell_type": "code",
   "execution_count": 257,
   "metadata": {},
   "outputs": [],
   "source": [
    "import sys\n",
    "sys.path.append('./')\n",
    "from micromap_fn_2020_06_30 import *"
   ]
  },
  {
   "cell_type": "code",
   "execution_count": 2,
   "metadata": {
    "scrolled": false
   },
   "outputs": [],
   "source": [
    "# order_df = find_order(data, ending = '21day_avg', fn = np.mean)\n",
    "# left = bottom = 0 \n",
    "# height = 1.5\n",
    "# width_map = 3\n",
    "# width_time = 3\n",
    "\n",
    "# k = 4.5\n",
    "\n",
    "\n",
    "# with PdfPages(f'/homes/beatrixh/repos/scratch/micromaps_test.pdf') as pdf:\n",
    "#     for i in np.arange(1,9):\n",
    "#         fig = plt.figure(figsize=(width_map+width_time,height*k,))\n",
    "#         plot_mult_locations(sf, df, data, dcount, order_df[order_df.plot_group==float(i)].geoid.tolist(), all_geoids,\n",
    "#                             left, bottom, w_map = width_map, w_time = width_time, h = height)\n",
    "#         if i > 1:\n",
    "#             fill_blockgroups(sf, df, order_df[order_df.plot_group<float(i)].geoid.tolist(), ['grey'] * (i-1)*3)\n",
    "            \n",
    "#         fill_water(df_water, sf_water)\n",
    "        \n",
    "#         bottom = bottom - height\n",
    "#         pdf.savefig(fig, bbox_inches='tight')"
   ]
  },
  {
   "cell_type": "code",
   "execution_count": null,
   "metadata": {},
   "outputs": [],
   "source": []
  }
 ],
 "metadata": {
  "kernelspec": {
   "display_name": "Python 3",
   "language": "python",
   "name": "python3"
  },
  "language_info": {
   "codemirror_mode": {
    "name": "ipython",
    "version": 3
   },
   "file_extension": ".py",
   "mimetype": "text/x-python",
   "name": "python",
   "nbconvert_exporter": "python",
   "pygments_lexer": "ipython3",
   "version": "3.6.10"
  }
 },
 "nbformat": 4,
 "nbformat_minor": 4
}
